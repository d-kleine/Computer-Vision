{
 "cells": [
  {
   "cell_type": "markdown",
   "id": "4e4bc593",
   "metadata": {},
   "source": [
    "## Loss functions"
   ]
  },
  {
   "cell_type": "code",
   "execution_count": 4,
   "id": "d7fcac13",
   "metadata": {},
   "outputs": [
    {
     "data": {
      "text/plain": [
       "tensor(2.1250)"
      ]
     },
     "execution_count": 4,
     "metadata": {},
     "output_type": "execute_result"
    }
   ],
   "source": [
    "from torch import nn\n",
    "\n",
    "loss = nn.MSELoss()\n",
    "input_x = torch.Tensor([(2.5, 3)])\n",
    "target = torch.Tensor([(2, 5)])\n",
    "output = loss(input_x, target)\n",
    "output"
   ]
  },
  {
   "cell_type": "code",
   "execution_count": 16,
   "id": "130faa75",
   "metadata": {},
   "outputs": [
    {
     "data": {
      "text/plain": [
       "2.125"
      ]
     },
     "execution_count": 16,
     "metadata": {},
     "output_type": "execute_result"
    }
   ],
   "source": [
    "((2.5-2)**2 +(3-5)**2)/2"
   ]
  },
  {
   "cell_type": "code",
   "execution_count": 17,
   "id": "a7542c37",
   "metadata": {},
   "outputs": [
    {
     "data": {
      "text/plain": [
       "tensor(0.8125)"
      ]
     },
     "execution_count": 17,
     "metadata": {},
     "output_type": "execute_result"
    }
   ],
   "source": [
    "loss = nn.SmoothL1Loss()\n",
    "input_x = torch.Tensor([(2.5, 3)])\n",
    "target = torch.Tensor([(2, 5)])\n",
    "output = loss(input_x, target)\n",
    "output"
   ]
  },
  {
   "cell_type": "code",
   "execution_count": 19,
   "id": "1df2ee94",
   "metadata": {},
   "outputs": [
    {
     "data": {
      "text/plain": [
       "0.8125"
      ]
     },
     "execution_count": 19,
     "metadata": {},
     "output_type": "execute_result"
    }
   ],
   "source": [
    "(1/2)*((0.5*(0.5)**2)+(2-0.5))"
   ]
  },
  {
   "cell_type": "markdown",
   "id": "c8daba10",
   "metadata": {},
   "source": [
    "## Convolution"
   ]
  },
  {
   "cell_type": "markdown",
   "id": "ae60fc04",
   "metadata": {},
   "source": [
    "$[(W−K+2*P)/S]+1$"
   ]
  },
  {
   "cell_type": "markdown",
   "id": "68a1f39f",
   "metadata": {},
   "source": [
    "## Motion Vector"
   ]
  },
  {
   "cell_type": "code",
   "execution_count": 25,
   "id": "d6e24bb0",
   "metadata": {},
   "outputs": [
    {
     "data": {
      "text/plain": [
       "251.56505117707798"
      ]
     },
     "execution_count": 25,
     "metadata": {},
     "output_type": "execute_result"
    }
   ],
   "source": [
    "import numpy as np\n",
    "\n",
    "# tan^-1 => arctan\n",
    "# output is tad, needs to be converted to deg\n",
    "# add an extra 180 to account for how this arrow points down and to the left\n",
    "np.degrees(np.arctan(-6/-2)) + 180"
   ]
  },
  {
   "cell_type": "markdown",
   "id": "ae143287",
   "metadata": {},
   "source": [
    "## Kalman filters"
   ]
  },
  {
   "cell_type": "code",
   "execution_count": 1,
   "id": "364ccf9a",
   "metadata": {},
   "outputs": [],
   "source": [
    "mu = 10\n",
    "nu = 12\n",
    "sigmasq = 4\n",
    "rsq = 4"
   ]
  },
  {
   "cell_type": "code",
   "execution_count": 4,
   "id": "54464411",
   "metadata": {},
   "outputs": [
    {
     "name": "stdout",
     "output_type": "stream",
     "text": [
      "11.0\n"
     ]
    }
   ],
   "source": [
    "mu_prime = ((rsq * mu) + (sigmasq * nu)) / (rsq + sigmasq)\n",
    "print(mu_prime)"
   ]
  },
  {
   "cell_type": "code",
   "execution_count": 7,
   "id": "8583f295",
   "metadata": {},
   "outputs": [
    {
     "name": "stdout",
     "output_type": "stream",
     "text": [
      "2.0\n"
     ]
    }
   ],
   "source": [
    "sigmasq_prime = 1 / ((1 / rsq) + (1 / sigmasq))\n",
    "print(sigmasq_prime)"
   ]
  }
 ],
 "metadata": {
  "kernelspec": {
   "display_name": "Python 3 (ipykernel)",
   "language": "python",
   "name": "python3"
  },
  "language_info": {
   "codemirror_mode": {
    "name": "ipython",
    "version": 3
   },
   "file_extension": ".py",
   "mimetype": "text/x-python",
   "name": "python",
   "nbconvert_exporter": "python",
   "pygments_lexer": "ipython3",
   "version": "3.9.7"
  }
 },
 "nbformat": 4,
 "nbformat_minor": 5
}
