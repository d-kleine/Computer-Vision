{
 "cells": [
  {
   "cell_type": "markdown",
   "id": "4e4bc593",
   "metadata": {},
   "source": [
    "## loss functions"
   ]
  },
  {
   "cell_type": "code",
   "execution_count": 4,
   "id": "d7fcac13",
   "metadata": {},
   "outputs": [
    {
     "data": {
      "text/plain": [
       "tensor(2.1250)"
      ]
     },
     "execution_count": 4,
     "metadata": {},
     "output_type": "execute_result"
    }
   ],
   "source": [
    "from torch import nn\n",
    "\n",
    "loss = nn.MSELoss()\n",
    "input_x = torch.Tensor([(2.5, 3)])\n",
    "target = torch.Tensor([(2, 5)])\n",
    "output = loss(input_x, target)\n",
    "output"
   ]
  },
  {
   "cell_type": "code",
   "execution_count": 16,
   "id": "130faa75",
   "metadata": {},
   "outputs": [
    {
     "data": {
      "text/plain": [
       "2.125"
      ]
     },
     "execution_count": 16,
     "metadata": {},
     "output_type": "execute_result"
    }
   ],
   "source": [
    "((2.5-2)**2 +(3-5)**2)/2"
   ]
  },
  {
   "cell_type": "code",
   "execution_count": 17,
   "id": "a7542c37",
   "metadata": {},
   "outputs": [
    {
     "data": {
      "text/plain": [
       "tensor(0.8125)"
      ]
     },
     "execution_count": 17,
     "metadata": {},
     "output_type": "execute_result"
    }
   ],
   "source": [
    "loss = nn.SmoothL1Loss()\n",
    "input_x = torch.Tensor([(2.5, 3)])\n",
    "target = torch.Tensor([(2, 5)])\n",
    "output = loss(input_x, target)\n",
    "output"
   ]
  },
  {
   "cell_type": "code",
   "execution_count": 19,
   "id": "1df2ee94",
   "metadata": {},
   "outputs": [
    {
     "data": {
      "text/plain": [
       "0.8125"
      ]
     },
     "execution_count": 19,
     "metadata": {},
     "output_type": "execute_result"
    }
   ],
   "source": [
    "(1/2)*((0.5*(0.5)**2)+(2-0.5))"
   ]
  }
 ],
 "metadata": {
  "kernelspec": {
   "display_name": "Python 3 (ipykernel)",
   "language": "python",
   "name": "python3"
  },
  "language_info": {
   "codemirror_mode": {
    "name": "ipython",
    "version": 3
   },
   "file_extension": ".py",
   "mimetype": "text/x-python",
   "name": "python",
   "nbconvert_exporter": "python",
   "pygments_lexer": "ipython3",
   "version": "3.9.7"
  }
 },
 "nbformat": 4,
 "nbformat_minor": 5
}
